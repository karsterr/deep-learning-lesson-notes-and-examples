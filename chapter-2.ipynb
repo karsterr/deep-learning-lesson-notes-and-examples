{
 "cells": [
  {
   "cell_type": "markdown",
   "id": "74db97f4",
   "metadata": {},
   "source": [
    "## 📌 Chapter 2 – Introduction to Theano (Özet)\n",
    "\n",
    "### 2.1 What is Theano?\n",
    "\n",
    "* Theano, **Python için sayısal hesaplama kütüphanesi**.\n",
    "* CPU veya GPU üzerinde çalışabiliyor.\n",
    "* Özellikle **büyük yapay sinir ağı hesaplamaları** için tasarlanmış.\n",
    "* 2007’de Montreal Üniversitesi (Yoshua Bengio’nun ekibi) tarafından geliştirildi.\n",
    "* Sembolik ifadeleri tanımlayıp sonra derleyerek (compile) çok hızlı çalıştırabiliyor.\n",
    "\n",
    "### 2.2 How to Install Theano\n",
    "\n",
    "* Çalışan bir **Python + SciPy** ortamı gerekiyor.\n",
    "* Kurulum:"
   ]
  },
  {
   "cell_type": "code",
   "execution_count": 1,
   "id": "9fd16bd7",
   "metadata": {},
   "outputs": [
    {
     "name": "stdout",
     "output_type": "stream",
     "text": [
      "Requirement already satisfied: pytensor in c:\\users\\kara\\anaconda3\\lib\\site-packages (2.32.0)\n",
      "Requirement already satisfied: setuptools>=59.0.0 in c:\\users\\kara\\anaconda3\\lib\\site-packages (from pytensor) (72.1.0)\n",
      "Requirement already satisfied: scipy<2,>=1 in c:\\users\\kara\\anaconda3\\lib\\site-packages (from pytensor) (1.15.3)\n",
      "Requirement already satisfied: numpy>=1.17.0 in c:\\users\\kara\\anaconda3\\lib\\site-packages (from pytensor) (2.1.3)\n",
      "Requirement already satisfied: filelock>=3.15 in c:\\users\\kara\\anaconda3\\lib\\site-packages (from pytensor) (3.17.0)\n",
      "Requirement already satisfied: etuples in c:\\users\\kara\\anaconda3\\lib\\site-packages (from pytensor) (0.3.10)\n",
      "Requirement already satisfied: logical-unification in c:\\users\\kara\\anaconda3\\lib\\site-packages (from pytensor) (0.4.6)\n",
      "Requirement already satisfied: miniKanren in c:\\users\\kara\\anaconda3\\lib\\site-packages (from pytensor) (1.0.5)\n",
      "Requirement already satisfied: cons in c:\\users\\kara\\anaconda3\\lib\\site-packages (from pytensor) (0.4.7)\n",
      "Requirement already satisfied: toolz in c:\\users\\kara\\anaconda3\\lib\\site-packages (from logical-unification->pytensor) (1.0.0)\n",
      "Requirement already satisfied: multipledispatch in c:\\users\\kara\\anaconda3\\lib\\site-packages (from logical-unification->pytensor) (0.6.0)\n",
      "Requirement already satisfied: typing_extensions in c:\\users\\kara\\anaconda3\\lib\\site-packages (from miniKanren->pytensor) (4.12.2)\n",
      "Requirement already satisfied: six in c:\\users\\kara\\anaconda3\\lib\\site-packages (from multipledispatch->logical-unification->pytensor) (1.17.0)\n"
     ]
    }
   ],
   "source": [
    "!pip install pytensor"
   ]
  },
  {
   "cell_type": "markdown",
   "id": "8254b57b",
   "metadata": {},
   "source": [
    "- Güncelleme:"
   ]
  },
  {
   "cell_type": "code",
   "execution_count": 2,
   "id": "055e1114",
   "metadata": {},
   "outputs": [
    {
     "name": "stdout",
     "output_type": "stream",
     "text": [
      "Requirement already satisfied: pytensor in c:\\users\\kara\\anaconda3\\lib\\site-packages (2.32.0)\n"
     ]
    }
   ],
   "source": [
    "!pip install --upgrade --no-deps pytensor"
   ]
  },
  {
   "cell_type": "markdown",
   "id": "5ec835b9",
   "metadata": {},
   "source": [
    "- En güncel sürümü GitHub’dan da yüklenebilir.\n",
    "- CPU üzerinde çalışmak yeterli ama GPU için ek ayar yapılabiliyor.\n",
    "\n",
    "### 2.3 Simple Theano Example\n",
    "\n",
    "Kitaptaki ilk kod örneği 👇"
   ]
  },
  {
   "cell_type": "code",
   "execution_count": 3,
   "id": "4296d744",
   "metadata": {},
   "outputs": [
    {
     "name": "stderr",
     "output_type": "stream",
     "text": [
      "WARNING (pytensor.configdefaults): g++ not available, if using conda: `conda install gxx`\n",
      "WARNING (pytensor.configdefaults): g++ not detected!  PyTensor will be unable to compile C-implementations and will default to Python. Performance may be severely degraded. To remove this warning, set PyTensor flags cxx to an empty string.\n"
     ]
    },
    {
     "name": "stdout",
     "output_type": "stream",
     "text": [
      "4.0\n"
     ]
    }
   ],
   "source": [
    "# Theano örneği\n",
    "import pytensor\n",
    "from pytensor import tensor\n",
    "\n",
    "# iki sembolik float sayı tanımla\n",
    "a = tensor.dscalar()\n",
    "b = tensor.dscalar()\n",
    "\n",
    "# sembolik ifade\n",
    "c = a + b\n",
    "\n",
    "# ifadeyi derleyip fonksiyon haline getir\n",
    "f = pytensor.function([a, b], c)\n",
    "\n",
    "# gerçek değerler verip çalıştır\n",
    "result = f(1.5, 2.5)\n",
    "print(result)  # çıktı: 4.0\n"
   ]
  },
  {
   "cell_type": "markdown",
   "id": "d9807c44",
   "metadata": {},
   "source": [
    "🔎 **Notlarım:**\n",
    "\n",
    "* Burada `a` ve `b` gerçek sayılar değil, **sembolik değişkenler**.\n",
    "* `c = a + b` ifadesi doğrudan çalışmaz, önce **Theano function** ile derlenir.\n",
    "* Sonra `f(1.5, 2.5)` dediğinde, sembolik ifade gerçek hesaplamaya dönüşür.\n",
    "\n",
    "### 2.4 Extensions and Wrappers for Theano\n",
    "\n",
    "* Theano’yu direkt kullanmak yerine üstüne kurulmuş kütüphaneler var.\n",
    "* En popüler olanı **Keras** → Theano’nun karmaşıklığını gizleyip kolay API sunuyor.\n",
    "* Yani pratikte çoğunlukla Theano’yu doğrudan kullanmazsın.\n",
    "\n",
    "### 2.5 More Theano Resources\n",
    "\n",
    "* Theano’nun resmi sitesi, GitHub reposu ve ilgili makaleler listelenmiş.\n",
    "* Ayrıca Theano üzerinde geliştirilmiş kütüphanelerin listesi de mevcut.\n",
    "\n",
    "### 2.6 Summary\n",
    "\n",
    "* Theano, derin öğrenmede temel sayısal altyapı kütüphanelerinden biri.\n",
    "* Tek başına kullanılabilir ama daha pratik olması için Keras gibi wrapper’lar öneriliyor.\n"
   ]
  },
  {
   "cell_type": "markdown",
   "id": "45f22df8",
   "metadata": {},
   "source": [
    "### 📌 Theano ile Matris Çarpımı Örneği"
   ]
  },
  {
   "cell_type": "code",
   "execution_count": 4,
   "id": "e59a5b7f",
   "metadata": {},
   "outputs": [
    {
     "name": "stdout",
     "output_type": "stream",
     "text": [
      "[[19. 22.]\n",
      " [43. 50.]]\n"
     ]
    }
   ],
   "source": [
    "# Theano matris çarpımı örneği\n",
    "import pytensor\n",
    "import pytensor.tensor as T\n",
    "import numpy as np\n",
    "\n",
    "# sembolik matrisler tanımla\n",
    "A = T.dmatrix('A')\n",
    "B = T.dmatrix('B')\n",
    "\n",
    "# matris çarpımını tanımla\n",
    "C = T.dot(A, B)\n",
    "\n",
    "# fonksiyon oluştur\n",
    "f = pytensor.function([A, B], C)\n",
    "\n",
    "# NumPy ile gerçek matrisler hazırla\n",
    "a_val = np.array([[1, 2], [3, 4]])\n",
    "b_val = np.array([[5, 6], [7, 8]])\n",
    "\n",
    "# Theano fonksiyonunu çalıştır\n",
    "result = f(a_val, b_val)\n",
    "print(result)"
   ]
  },
  {
   "cell_type": "markdown",
   "id": "10c2f3a8",
   "metadata": {},
   "source": [
    "🔎 **Açıklamalar:**\n",
    "\n",
    "- T.dmatrix → double precision (float64) matris tanımı.\n",
    "- T.dot(A, B) → sembolik olarak matris çarpımını tanımlıyor.\n",
    "- theano.function → sembolik ifadeyi gerçek fonksiyona çeviriyor.\n",
    "- NumPy’den gelen matrisleri kullanıp sonucu hesaplıyoruz."
   ]
  },
  {
   "cell_type": "markdown",
   "id": "ab7be70b",
   "metadata": {},
   "source": [
    "### 📌 Theano – Matris Transpoz ve Skaler İşlemler"
   ]
  },
  {
   "cell_type": "code",
   "execution_count": 5,
   "id": "10630369",
   "metadata": {},
   "outputs": [
    {
     "name": "stdout",
     "output_type": "stream",
     "text": [
      "[[1. 3.]\n",
      " [2. 4.]]\n",
      "\n",
      "2*A + B:\n",
      "[[ 7. 10.]\n",
      " [13. 16.]]\n"
     ]
    }
   ],
   "source": [
    "import pytensor\n",
    "import pytensor.tensor as T\n",
    "import numpy as np\n",
    "\n",
    "# sembolik matrisler\n",
    "A = T.dmatrix('A')\n",
    "B = T.dmatrix('B')\n",
    "\n",
    "# 1) Transpoz işlemi\n",
    "A_T = A.T\n",
    "\n",
    "# 2) Skaler işlem: 2*A + B\n",
    "expr = 2 * A + B\n",
    "\n",
    "# fonksiyonlar oluştur\n",
    "f_transpose = pytensor.function([A], A_T)\n",
    "f_scalar = pytensor.function([A, B], expr)\n",
    "\n",
    "# NumPy matrisleri\n",
    "a_val = np.array([[1, 2], [3, 4]])\n",
    "b_val = np.array([[5, 6], [7, 8]])\n",
    "\n",
    "# çalıştır\n",
    "print(f_transpose(a_val))\n",
    "\n",
    "print(\"\\n2*A + B:\")\n",
    "print(f_scalar(a_val, b_val))\n"
   ]
  },
  {
   "cell_type": "markdown",
   "id": "05f83c6c",
   "metadata": {},
   "source": [
    "🔎 **Özet:**\n",
    "\n",
    "* `A.T` → Theano’da transpoz işlemi.\n",
    "* `2*A + B` → sembolik olarak skaler + matris kombinasyonu.\n",
    "* Aynı yapı ile daha karmaşık lineer cebir işlemleri kurulabilir."
   ]
  }
 ],
 "metadata": {
  "kernelspec": {
   "display_name": "base",
   "language": "python",
   "name": "python3"
  },
  "language_info": {
   "codemirror_mode": {
    "name": "ipython",
    "version": 3
   },
   "file_extension": ".py",
   "mimetype": "text/x-python",
   "name": "python",
   "nbconvert_exporter": "python",
   "pygments_lexer": "ipython3",
   "version": "3.13.5"
  }
 },
 "nbformat": 4,
 "nbformat_minor": 5
}
