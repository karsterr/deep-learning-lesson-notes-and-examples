{
 "cells": [
  {
   "cell_type": "markdown",
   "id": "66558788",
   "metadata": {},
   "source": [
    "## 📌 Chapter 1 – Welcome (Özet)\n",
    "\n",
    "### 1.1 Deep Learning the Wrong Way\n",
    "\n",
    "* Çoğu uzman, “önce yıllarca lineer cebir, olasılık, istatistik, geleneksel makine öğrenmesi öğrenmelisin, hatta doktora yapmalısın” gibi tavsiyeler verir.\n",
    "* Yazar bu yaklaşımı yanlış buluyor.\n",
    "* Çünkü böyle düşünürsen **asıl model geliştirmeye başlamak için yıllar kaybedersin**.\n",
    "\n",
    "### 1.2 Deep Learning With Python\n",
    "\n",
    "* Bu kitapta yaklaşım **tam tersi**: Önce **uygulamalı olarak model geliştir**, sonra ilgini çekerse teoriye dal.\n",
    "* Yazar Keras’ı seçmiş çünkü:\n",
    "\n",
    "  * Hem Theano hem TensorFlow üzerinde çalışabiliyor.\n",
    "  * Python’un güçlü ekosistemiyle entegre.\n",
    "  * Basit ve hızlı prototipleme sağlıyor.\n",
    "* Hedef: Okuyucu kitabın içinde ilerlerken kendi derin öğrenme modellerini geliştirip çalıştırabilsin.\n",
    "\n",
    "### 1.3 Book Organization\n",
    "\n",
    "Kitap 3 tür içerikten oluşuyor:\n",
    "\n",
    "* **Lessons (Dersler):** Tek konu odaklı, kısa sürede yapılabilecek.\n",
    "* **Projects (Projeler):** Birden fazla dersi birleştirerek uçtan uca çözümler.\n",
    "* **Recipes (Tarifler):** Kitaptaki tüm kodları hazır olarak kullanabileceğin “copy-paste” yapılar.\n",
    "\n",
    "Kitap şu parçalara ayrılmış:\n",
    "\n",
    "1. **Background** – Theano, TensorFlow, Keras temeli + AWS kullanımı.\n",
    "2. **Multilayer Perceptrons** – İlk ağ modelleri, performans değerlendirme, scikit-learn entegrasyonu.\n",
    "3. **Advanced MLPs** – Model kaydetme, checkpointing, overfitting önleme, learning rate ayarlama.\n",
    "4. **Convolutional Neural Networks** – Görüntü ve metin sınıflandırma projeleri.\n",
    "5. **Recurrent Neural Networks** – Zaman serileri, LSTM, text generation projeleri.\n",
    "6. **Conclusions** – Ek kaynaklar, destek bölümü.\n",
    "\n",
    "### 1.4 Requirements For This Book\n",
    "\n",
    "* Python 2.7 veya 3 (yazar Python 2.7.11 ile geliştirmiş).\n",
    "* SciPy, NumPy, Matplotlib, Pandas, scikit-learn kurulu olmalı.\n",
    "* Temel ML kavramlarına (cross-validation, one-hot encoding gibi) biraz aşinalık faydalı.\n",
    "* GPU zorunlu değil, ama hız için AWS üzerinde GPU kullanımı öneriliyor.\n",
    "\n",
    "### 1.5 Your Outcomes From Reading This Book\n",
    "\n",
    "Bu kitabı bitirdiğinde şunları yapabiliyor olacaksın:\n",
    "\n",
    "* Baştan sona kendi dataset’in üzerinde model kurup değerlendirmek.\n",
    "* İleri seviye tekniklerle SOTA (state-of-the-art) sonuçlara yaklaşmak.\n",
    "* Büyük modelleri görüntü ve metin verisine uygulamak.\n",
    "* Görüntü augmentasyonu gibi ek tekniklerle performans artırmak.\n",
    "* Nereden destek alabileceğini bilmek.\n",
    "\n",
    "### 1.6 What This Book is Not\n",
    "\n",
    "* **Derin öğrenme teorisi kitabı değil.** Formüller, algoritmaların iç matematiği yok.\n",
    "* **Algoritma kitabı değil.** Amaç kod ve uygulama.\n",
    "* **Python kitabı değil.** Python’u zaten biraz biliyor olman bekleniyor.\n",
    "\n",
    "### 1.7 Summary\n",
    "\n",
    "* Şu an derin öğrenmeye başlamak için en doğru zaman.\n",
    "* Araçlar güçlü, öğrenme eğrisi hızlı.\n",
    "* Bu kitap senin yolculuğunun başlangıcı olacak."
   ]
  },
  {
   "cell_type": "markdown",
   "id": "28d96d6b",
   "metadata": {},
   "source": [
    "## 📌 Chapter 2 – Introduction to Theano (Özet)\n",
    "\n",
    "### 2.1 What is Theano?\n",
    "\n",
    "* Theano, **Python için sayısal hesaplama kütüphanesi**.\n",
    "* CPU veya GPU üzerinde çalışabiliyor.\n",
    "* Özellikle **büyük yapay sinir ağı hesaplamaları** için tasarlanmış.\n",
    "* 2007’de Montreal Üniversitesi (Yoshua Bengio’nun ekibi) tarafından geliştirildi.\n",
    "* Sembolik ifadeleri tanımlayıp sonra derleyerek (compile) çok hızlı çalıştırabiliyor.\n",
    "\n",
    "### 2.2 How to Install Theano\n",
    "\n",
    "* Çalışan bir **Python + SciPy** ortamı gerekiyor.\n",
    "* Kurulum:"
   ]
  },
  {
   "cell_type": "code",
   "execution_count": 1,
   "id": "ac46821a",
   "metadata": {},
   "outputs": [
    {
     "name": "stdout",
     "output_type": "stream",
     "text": [
      "Requirement already satisfied: pytensor in c:\\users\\kara\\anaconda3\\lib\\site-packages (2.32.0)\n",
      "Requirement already satisfied: setuptools>=59.0.0 in c:\\users\\kara\\anaconda3\\lib\\site-packages (from pytensor) (72.1.0)\n",
      "Requirement already satisfied: scipy<2,>=1 in c:\\users\\kara\\anaconda3\\lib\\site-packages (from pytensor) (1.15.3)\n",
      "Requirement already satisfied: numpy>=1.17.0 in c:\\users\\kara\\anaconda3\\lib\\site-packages (from pytensor) (2.1.3)\n",
      "Requirement already satisfied: filelock>=3.15 in c:\\users\\kara\\anaconda3\\lib\\site-packages (from pytensor) (3.17.0)\n",
      "Requirement already satisfied: etuples in c:\\users\\kara\\anaconda3\\lib\\site-packages (from pytensor) (0.3.10)\n",
      "Requirement already satisfied: logical-unification in c:\\users\\kara\\anaconda3\\lib\\site-packages (from pytensor) (0.4.6)\n",
      "Requirement already satisfied: miniKanren in c:\\users\\kara\\anaconda3\\lib\\site-packages (from pytensor) (1.0.5)\n",
      "Requirement already satisfied: cons in c:\\users\\kara\\anaconda3\\lib\\site-packages (from pytensor) (0.4.7)\n",
      "Requirement already satisfied: toolz in c:\\users\\kara\\anaconda3\\lib\\site-packages (from logical-unification->pytensor) (1.0.0)\n",
      "Requirement already satisfied: multipledispatch in c:\\users\\kara\\anaconda3\\lib\\site-packages (from logical-unification->pytensor) (0.6.0)\n",
      "Requirement already satisfied: typing_extensions in c:\\users\\kara\\anaconda3\\lib\\site-packages (from miniKanren->pytensor) (4.12.2)\n",
      "Requirement already satisfied: six in c:\\users\\kara\\anaconda3\\lib\\site-packages (from multipledispatch->logical-unification->pytensor) (1.17.0)\n"
     ]
    }
   ],
   "source": [
    "!pip install pytensor"
   ]
  },
  {
   "cell_type": "markdown",
   "id": "02f4f7f2",
   "metadata": {},
   "source": [
    "- Güncelleme:"
   ]
  },
  {
   "cell_type": "code",
   "execution_count": 2,
   "id": "744fd1ab",
   "metadata": {},
   "outputs": [
    {
     "name": "stdout",
     "output_type": "stream",
     "text": [
      "Requirement already satisfied: pytensor in c:\\users\\kara\\anaconda3\\lib\\site-packages (2.32.0)\n"
     ]
    }
   ],
   "source": [
    "!pip install --upgrade --no-deps pytensor"
   ]
  },
  {
   "cell_type": "markdown",
   "id": "0cb4ea8b",
   "metadata": {},
   "source": [
    "- En güncel sürümü GitHub’dan da yüklenebilir.\n",
    "- CPU üzerinde çalışmak yeterli ama GPU için ek ayar yapılabiliyor.\n",
    "\n",
    "### 2.3 Simple Theano Example\n",
    "\n",
    "Kitaptaki ilk kod örneği 👇"
   ]
  },
  {
   "cell_type": "code",
   "execution_count": 3,
   "id": "5c4e5922",
   "metadata": {},
   "outputs": [
    {
     "name": "stderr",
     "output_type": "stream",
     "text": [
      "WARNING (pytensor.configdefaults): g++ not available, if using conda: `conda install gxx`\n",
      "WARNING (pytensor.configdefaults): g++ not detected!  PyTensor will be unable to compile C-implementations and will default to Python. Performance may be severely degraded. To remove this warning, set PyTensor flags cxx to an empty string.\n"
     ]
    },
    {
     "name": "stdout",
     "output_type": "stream",
     "text": [
      "4.0\n"
     ]
    }
   ],
   "source": [
    "# Theano örneği\n",
    "import pytensor\n",
    "from pytensor import tensor\n",
    "\n",
    "# iki sembolik float sayı tanımla\n",
    "a = tensor.dscalar()\n",
    "b = tensor.dscalar()\n",
    "\n",
    "# sembolik ifade\n",
    "c = a + b\n",
    "\n",
    "# ifadeyi derleyip fonksiyon haline getir\n",
    "f = pytensor.function([a, b], c)\n",
    "\n",
    "# gerçek değerler verip çalıştır\n",
    "result = f(1.5, 2.5)\n",
    "print(result)  # çıktı: 4.0\n"
   ]
  },
  {
   "cell_type": "markdown",
   "id": "2b7424fe",
   "metadata": {},
   "source": [
    "🔎 **Notlarım:**\n",
    "\n",
    "* Burada `a` ve `b` gerçek sayılar değil, **sembolik değişkenler**.\n",
    "* `c = a + b` ifadesi doğrudan çalışmaz, önce **Theano function** ile derlenir.\n",
    "* Sonra `f(1.5, 2.5)` dediğinde, sembolik ifade gerçek hesaplamaya dönüşür.\n",
    "\n",
    "### 2.4 Extensions and Wrappers for Theano\n",
    "\n",
    "* Theano’yu direkt kullanmak yerine üstüne kurulmuş kütüphaneler var.\n",
    "* En popüler olanı **Keras** → Theano’nun karmaşıklığını gizleyip kolay API sunuyor.\n",
    "* Yani pratikte çoğunlukla Theano’yu doğrudan kullanmazsın.\n",
    "\n",
    "### 2.5 More Theano Resources\n",
    "\n",
    "* Theano’nun resmi sitesi, GitHub reposu ve ilgili makaleler listelenmiş.\n",
    "* Ayrıca Theano üzerinde geliştirilmiş kütüphanelerin listesi de mevcut.\n",
    "\n",
    "### 2.6 Summary\n",
    "\n",
    "* Theano, derin öğrenmede temel sayısal altyapı kütüphanelerinden biri.\n",
    "* Tek başına kullanılabilir ama daha pratik olması için Keras gibi wrapper’lar öneriliyor.\n"
   ]
  },
  {
   "cell_type": "markdown",
   "id": "3de69ba1",
   "metadata": {},
   "source": [
    "### 📌 Theano ile Matris Çarpımı Örneği"
   ]
  },
  {
   "cell_type": "code",
   "execution_count": 4,
   "id": "9a5832f6",
   "metadata": {},
   "outputs": [
    {
     "name": "stdout",
     "output_type": "stream",
     "text": [
      "[[19. 22.]\n",
      " [43. 50.]]\n"
     ]
    }
   ],
   "source": [
    "# Theano matris çarpımı örneği\n",
    "import pytensor\n",
    "import pytensor.tensor as T\n",
    "import numpy as np\n",
    "\n",
    "# sembolik matrisler tanımla\n",
    "A = T.dmatrix('A')\n",
    "B = T.dmatrix('B')\n",
    "\n",
    "# matris çarpımını tanımla\n",
    "C = T.dot(A, B)\n",
    "\n",
    "# fonksiyon oluştur\n",
    "f = pytensor.function([A, B], C)\n",
    "\n",
    "# NumPy ile gerçek matrisler hazırla\n",
    "a_val = np.array([[1, 2], [3, 4]])\n",
    "b_val = np.array([[5, 6], [7, 8]])\n",
    "\n",
    "# Theano fonksiyonunu çalıştır\n",
    "result = f(a_val, b_val)\n",
    "print(result)"
   ]
  },
  {
   "cell_type": "markdown",
   "id": "83351fbe",
   "metadata": {},
   "source": [
    "🔎 **Açıklamalar:**\n",
    "\n",
    "- T.dmatrix → double precision (float64) matris tanımı.\n",
    "- T.dot(A, B) → sembolik olarak matris çarpımını tanımlıyor.\n",
    "- theano.function → sembolik ifadeyi gerçek fonksiyona çeviriyor.\n",
    "- NumPy’den gelen matrisleri kullanıp sonucu hesaplıyoruz."
   ]
  },
  {
   "cell_type": "markdown",
   "id": "6f3dd192",
   "metadata": {},
   "source": [
    "### 📌 Theano – Matris Transpoz ve Skaler İşlemler"
   ]
  },
  {
   "cell_type": "code",
   "execution_count": 5,
   "id": "f0e7d888",
   "metadata": {},
   "outputs": [
    {
     "name": "stdout",
     "output_type": "stream",
     "text": [
      "Transpoz:\n",
      "[[1. 3.]\n",
      " [2. 4.]]\n",
      "\n",
      "2*A + B:\n",
      "[[ 7. 10.]\n",
      " [13. 16.]]\n"
     ]
    }
   ],
   "source": [
    "import pytensor\n",
    "import pytensor.tensor as T\n",
    "import numpy as np\n",
    "\n",
    "# sembolik matrisler\n",
    "A = T.dmatrix('A')\n",
    "B = T.dmatrix('B')\n",
    "\n",
    "# 1) Transpoz işlemi\n",
    "A_T = A.T\n",
    "\n",
    "# 2) Skaler işlem: 2*A + B\n",
    "expr = 2 * A + B\n",
    "\n",
    "# fonksiyonlar oluştur\n",
    "f_transpose = pytensor.function([A], A_T)\n",
    "f_scalar = pytensor.function([A, B], expr)\n",
    "\n",
    "# NumPy matrisleri\n",
    "a_val = np.array([[1, 2], [3, 4]])\n",
    "b_val = np.array([[5, 6], [7, 8]])\n",
    "\n",
    "# çalıştır\n",
    "print(\"Transpoz:\")\n",
    "print(f_transpose(a_val))\n",
    "\n",
    "print(\"\\n2*A + B:\")\n",
    "print(f_scalar(a_val, b_val))\n"
   ]
  },
  {
   "cell_type": "markdown",
   "id": "4d45068e",
   "metadata": {},
   "source": [
    "🔎 **Özet:**\n",
    "\n",
    "* `A.T` → Theano’da transpoz işlemi.\n",
    "* `2*A + B` → sembolik olarak skaler + matris kombinasyonu.\n",
    "* Aynı yapı ile daha karmaşık lineer cebir işlemleri kurulabilir."
   ]
  },
  {
   "cell_type": "markdown",
   "id": "4d597dc7",
   "metadata": {},
   "source": []
  }
 ],
 "metadata": {
  "kernelspec": {
   "display_name": "base",
   "language": "python",
   "name": "python3"
  },
  "language_info": {
   "codemirror_mode": {
    "name": "ipython",
    "version": 3
   },
   "file_extension": ".py",
   "mimetype": "text/x-python",
   "name": "python",
   "nbconvert_exporter": "python",
   "pygments_lexer": "ipython3",
   "version": "3.13.5"
  }
 },
 "nbformat": 4,
 "nbformat_minor": 5
}
