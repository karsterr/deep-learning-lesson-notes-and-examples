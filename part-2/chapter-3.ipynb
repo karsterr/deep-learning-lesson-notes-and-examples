{
 "cells": [
  {
   "cell_type": "markdown",
   "id": "22e7aba0",
   "metadata": {},
   "source": [
    "## 📌 Chapter 3 – Introduction to TensorFlow (Özet)\n",
    "\n",
    "### 3.1 What is TensorFlow?\n",
    "\n",
    "* **Google tarafından geliştirilen açık kaynaklı** sayısal hesaplama kütüphanesi.\n",
    "* Python API’si var ama altyapısı C++ ile yazılmış.\n",
    "* Hem araştırma hem de üretim ortamında kullanılabiliyor.\n",
    "* CPU, GPU, mobil cihazlarda ve dağıtık sistemlerde çalışabiliyor.\n",
    "* Google’ın **RankBrain** (arama motoru) ve **DeepDream** projelerinde kullanıldı.\n",
    "\n",
    "### 3.2 How to Install TensorFlow\n",
    "\n",
    "* Python 2.7 veya 3.3+ destekliyor.\n",
    "* Çalışan bir SciPy ortamına kurulum yapılmalı.\n",
    "* `pip install tensorflow` komutuyla kurulabiliyor.\n",
    "* Farklı sistemler için farklı dağıtımları mevcut.\n",
    "\n",
    "### 3.3 Your First Examples in TensorFlow\n",
    "\n",
    "* Hesaplamalar **directed graph (yönlendirilmiş grafik)** yapısıyla tanımlanıyor.\n",
    "\n",
    "  * **Node (düğüm):** Hesaplama birimi.\n",
    "  * **Tensor:** Düğümler arasında akan çok boyutlu veri.\n",
    "  * **Edge (kenar):** Veri akışını tanımlar.\n",
    "  * **Operation:** Belirli bir hesaplama (ör. toplama, çarpma).\n",
    "\n",
    "### 3.4 Simple TensorFlow Example\n",
    "\n",
    "Basit toplama örneği (Theano’daki ile aynı mantık, farklı syntax):"
   ]
  },
  {
   "cell_type": "code",
   "execution_count": 1,
   "id": "acf8baf4",
   "metadata": {},
   "outputs": [
    {
     "name": "stdout",
     "output_type": "stream",
     "text": [
      "Requirement already satisfied: tensorflow in c:\\users\\kara\\appdata\\roaming\\python\\python313\\site-packages (2.20.0)\n",
      "Requirement already satisfied: absl-py>=1.0.0 in c:\\users\\kara\\anaconda3\\lib\\site-packages (from tensorflow) (2.3.1)\n",
      "Requirement already satisfied: astunparse>=1.6.0 in c:\\users\\kara\\appdata\\roaming\\python\\python313\\site-packages (from tensorflow) (1.6.3)\n",
      "Requirement already satisfied: flatbuffers>=24.3.25 in c:\\users\\kara\\appdata\\roaming\\python\\python313\\site-packages (from tensorflow) (25.9.23)\n",
      "Requirement already satisfied: gast!=0.5.0,!=0.5.1,!=0.5.2,>=0.2.1 in c:\\users\\kara\\appdata\\roaming\\python\\python313\\site-packages (from tensorflow) (0.6.0)\n",
      "Requirement already satisfied: google_pasta>=0.1.1 in c:\\users\\kara\\appdata\\roaming\\python\\python313\\site-packages (from tensorflow) (0.2.0)\n",
      "Requirement already satisfied: libclang>=13.0.0 in c:\\users\\kara\\appdata\\roaming\\python\\python313\\site-packages (from tensorflow) (18.1.1)\n",
      "Requirement already satisfied: opt_einsum>=2.3.2 in c:\\users\\kara\\appdata\\roaming\\python\\python313\\site-packages (from tensorflow) (3.4.0)\n",
      "Requirement already satisfied: packaging in c:\\users\\kara\\anaconda3\\lib\\site-packages (from tensorflow) (24.2)\n",
      "Requirement already satisfied: protobuf>=5.28.0 in c:\\users\\kara\\anaconda3\\lib\\site-packages (from tensorflow) (5.29.3)\n",
      "Requirement already satisfied: requests<3,>=2.21.0 in c:\\users\\kara\\anaconda3\\lib\\site-packages (from tensorflow) (2.32.3)\n",
      "Requirement already satisfied: setuptools in c:\\users\\kara\\anaconda3\\lib\\site-packages (from tensorflow) (72.1.0)\n",
      "Requirement already satisfied: six>=1.12.0 in c:\\users\\kara\\anaconda3\\lib\\site-packages (from tensorflow) (1.17.0)\n",
      "Requirement already satisfied: termcolor>=1.1.0 in c:\\users\\kara\\appdata\\roaming\\python\\python313\\site-packages (from tensorflow) (3.1.0)\n",
      "Requirement already satisfied: typing_extensions>=3.6.6 in c:\\users\\kara\\anaconda3\\lib\\site-packages (from tensorflow) (4.12.2)\n",
      "Requirement already satisfied: wrapt>=1.11.0 in c:\\users\\kara\\anaconda3\\lib\\site-packages (from tensorflow) (1.17.0)\n",
      "Requirement already satisfied: grpcio<2.0,>=1.24.3 in c:\\users\\kara\\appdata\\roaming\\python\\python313\\site-packages (from tensorflow) (1.75.1)\n",
      "Requirement already satisfied: tensorboard~=2.20.0 in c:\\users\\kara\\appdata\\roaming\\python\\python313\\site-packages (from tensorflow) (2.20.0)\n",
      "Requirement already satisfied: keras>=3.10.0 in c:\\users\\kara\\anaconda3\\lib\\site-packages (from tensorflow) (3.11.3)\n",
      "Requirement already satisfied: numpy>=1.26.0 in c:\\users\\kara\\anaconda3\\lib\\site-packages (from tensorflow) (2.1.3)\n",
      "Requirement already satisfied: h5py>=3.11.0 in c:\\users\\kara\\anaconda3\\lib\\site-packages (from tensorflow) (3.12.1)\n",
      "Requirement already satisfied: ml_dtypes<1.0.0,>=0.5.1 in c:\\users\\kara\\anaconda3\\lib\\site-packages (from tensorflow) (0.5.3)\n",
      "Requirement already satisfied: charset-normalizer<4,>=2 in c:\\users\\kara\\anaconda3\\lib\\site-packages (from requests<3,>=2.21.0->tensorflow) (3.3.2)\n",
      "Requirement already satisfied: idna<4,>=2.5 in c:\\users\\kara\\anaconda3\\lib\\site-packages (from requests<3,>=2.21.0->tensorflow) (3.7)\n",
      "Requirement already satisfied: urllib3<3,>=1.21.1 in c:\\users\\kara\\anaconda3\\lib\\site-packages (from requests<3,>=2.21.0->tensorflow) (2.3.0)\n",
      "Requirement already satisfied: certifi>=2017.4.17 in c:\\users\\kara\\anaconda3\\lib\\site-packages (from requests<3,>=2.21.0->tensorflow) (2025.8.3)\n",
      "Requirement already satisfied: markdown>=2.6.8 in c:\\users\\kara\\anaconda3\\lib\\site-packages (from tensorboard~=2.20.0->tensorflow) (3.8)\n",
      "Requirement already satisfied: pillow in c:\\users\\kara\\anaconda3\\lib\\site-packages (from tensorboard~=2.20.0->tensorflow) (11.1.0)\n",
      "Requirement already satisfied: tensorboard-data-server<0.8.0,>=0.7.0 in c:\\users\\kara\\appdata\\roaming\\python\\python313\\site-packages (from tensorboard~=2.20.0->tensorflow) (0.7.2)\n",
      "Requirement already satisfied: werkzeug>=1.0.1 in c:\\users\\kara\\anaconda3\\lib\\site-packages (from tensorboard~=2.20.0->tensorflow) (3.1.3)\n",
      "Requirement already satisfied: wheel<1.0,>=0.23.0 in c:\\users\\kara\\anaconda3\\lib\\site-packages (from astunparse>=1.6.0->tensorflow) (0.45.1)\n",
      "Requirement already satisfied: rich in c:\\users\\kara\\anaconda3\\lib\\site-packages (from keras>=3.10.0->tensorflow) (13.9.4)\n",
      "Requirement already satisfied: namex in c:\\users\\kara\\anaconda3\\lib\\site-packages (from keras>=3.10.0->tensorflow) (0.1.0)\n",
      "Requirement already satisfied: optree in c:\\users\\kara\\anaconda3\\lib\\site-packages (from keras>=3.10.0->tensorflow) (0.17.0)\n",
      "Requirement already satisfied: MarkupSafe>=2.1.1 in c:\\users\\kara\\anaconda3\\lib\\site-packages (from werkzeug>=1.0.1->tensorboard~=2.20.0->tensorflow) (3.0.2)\n",
      "Requirement already satisfied: markdown-it-py>=2.2.0 in c:\\users\\kara\\anaconda3\\lib\\site-packages (from rich->keras>=3.10.0->tensorflow) (2.2.0)\n",
      "Requirement already satisfied: pygments<3.0.0,>=2.13.0 in c:\\users\\kara\\anaconda3\\lib\\site-packages (from rich->keras>=3.10.0->tensorflow) (2.19.1)\n",
      "Requirement already satisfied: mdurl~=0.1 in c:\\users\\kara\\anaconda3\\lib\\site-packages (from markdown-it-py>=2.2.0->rich->keras>=3.10.0->tensorflow) (0.1.0)\n"
     ]
    }
   ],
   "source": [
    "!pip install --user tensorflow"
   ]
  },
  {
   "cell_type": "code",
   "execution_count": 7,
   "id": "8129e882",
   "metadata": {},
   "outputs": [
    {
     "name": "stdout",
     "output_type": "stream",
     "text": [
      "4.0\n"
     ]
    }
   ],
   "source": [
    "import tensorflow as tf\n",
    "\n",
    "# Giriş değerleri doğrudan atanır (TF 2.x'te 'placeholder' kullanılmaz)\n",
    "a = 1.5\n",
    "b = 2.5\n",
    "\n",
    "# Toplama işlemi (anlık çalışır)\n",
    "add = tf.add(a, b)\n",
    "\n",
    "# Sonucu yazdırma. Tensor'dan Python değerini almak için .numpy() kullanılır.\n",
    "result = add.numpy()\n",
    "print(result) \n",
    "# Çıktı: 4.0"
   ]
  },
  {
   "cell_type": "markdown",
   "id": "e6600188",
   "metadata": {},
   "source": [
    "### 3.5 More Deep Learning Models\n",
    "\n",
    "* TensorFlow kurulumu ile birlikte hazır modeller geliyor:\n",
    "\n",
    "  * word2vec (skip-gram)\n",
    "  * CIFAR-10 CNN\n",
    "  * MNIST CNN (LeNet-5 benzeri)\n",
    "  * Sequence-to-sequence (attention mekanizmalı)\n",
    "* Ayrıca **TensorFlow Playground** üzerinden tarayıcıda küçük ağlar denemek mümkün.\n",
    "\n",
    "### 3.6 Summary\n",
    "\n",
    "* TensorFlow da Theano gibi güçlü bir sayısal hesaplama kütüphanesi.\n",
    "* Model geliştirme doğrudan yapılabilir ama genelde Keras gibi wrapper ile kullanmak daha kolay.\n",
    "\n",
    "## 📌 Örnek 1 – TensorFlow ile Basit Çarpma"
   ]
  },
  {
   "cell_type": "code",
   "execution_count": 8,
   "id": "462eeb79",
   "metadata": {},
   "outputs": [
    {
     "name": "stdout",
     "output_type": "stream",
     "text": [
      "12.0\n"
     ]
    }
   ],
   "source": [
    "import tensorflow as tf\n",
    "\n",
    "# Giriş değerleri tanımlanır (TF 2.x'te 'placeholder' kullanılmaz)\n",
    "x = 3.0  # Orijinalde tf.float32 kullanıldığı için float değerleri tercih edildi\n",
    "y = 4.0\n",
    "\n",
    "# Çarpma işlemi (anlık çalışır)\n",
    "mul = tf.multiply(x, y)\n",
    "\n",
    "# Sonucu yazdırma.\n",
    "result = mul.numpy()\n",
    "print(result)\n",
    "# Çıktı: 12.0"
   ]
  },
  {
   "cell_type": "markdown",
   "id": "1ffe9d46",
   "metadata": {},
   "source": [
    "## 📌 Örnek 2 – TensorFlow ile Matris Çarpımı"
   ]
  },
  {
   "cell_type": "code",
   "execution_count": 9,
   "id": "ce8d73ad",
   "metadata": {},
   "outputs": [
    {
     "name": "stdout",
     "output_type": "stream",
     "text": [
      "[[19. 22.]\n",
      " [43. 50.]]\n"
     ]
    }
   ],
   "source": [
    "import tensorflow as tf\n",
    "import numpy as np\n",
    "\n",
    "# Giriş matrisleri tf.constant() ile oluşturulur (TF 2.x'te 'placeholder' yerine)\n",
    "A = tf.constant(np.array([[1, 2], [3, 4]]), dtype=tf.float32)\n",
    "B = tf.constant(np.array([[5, 6], [7, 8]]), dtype=tf.float32)\n",
    "\n",
    "# Matris çarpımı (anlık çalışır)\n",
    "C = tf.matmul(A, B)\n",
    "\n",
    "# Sonucu yazdırma. Matrisin NumPy dizisi olarak çıktısını almak için .numpy() kullanılır.\n",
    "result = C.numpy()\n",
    "print(result)\n",
    "# Çıktı: [[19. 22.]\n",
    "#         [43. 50.]]"
   ]
  }
 ],
 "metadata": {
  "kernelspec": {
   "display_name": "base",
   "language": "python",
   "name": "python3"
  },
  "language_info": {
   "codemirror_mode": {
    "name": "ipython",
    "version": 3
   },
   "file_extension": ".py",
   "mimetype": "text/x-python",
   "name": "python",
   "nbconvert_exporter": "python",
   "pygments_lexer": "ipython3",
   "version": "3.13.5"
  }
 },
 "nbformat": 4,
 "nbformat_minor": 5
}
