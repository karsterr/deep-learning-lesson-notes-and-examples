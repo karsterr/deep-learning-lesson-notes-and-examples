{
 "cells": [
  {
   "cell_type": "markdown",
   "id": "22e7aba0",
   "metadata": {},
   "source": [
    "## 📌 Chapter 3 – Introduction to TensorFlow (Özet)\n",
    "\n",
    "### 3.1 What is TensorFlow?\n",
    "\n",
    "* **Google tarafından geliştirilen açık kaynaklı** sayısal hesaplama kütüphanesi.\n",
    "* Python API’si var ama altyapısı C++ ile yazılmış.\n",
    "* Hem araştırma hem de üretim ortamında kullanılabiliyor.\n",
    "* CPU, GPU, mobil cihazlarda ve dağıtık sistemlerde çalışabiliyor.\n",
    "* Google’ın **RankBrain** (arama motoru) ve **DeepDream** projelerinde kullanıldı.\n",
    "\n",
    "### 3.2 How to Install TensorFlow\n",
    "\n",
    "* Python 2.7 veya 3.3+ destekliyor.\n",
    "* Çalışan bir SciPy ortamına kurulum yapılmalı.\n",
    "* `pip install tensorflow` komutuyla kurulabiliyor.\n",
    "* Farklı sistemler için farklı dağıtımları mevcut.\n",
    "\n",
    "### 3.3 Your First Examples in TensorFlow\n",
    "\n",
    "* Hesaplamalar **directed graph (yönlendirilmiş grafik)** yapısıyla tanımlanıyor.\n",
    "\n",
    "  * **Node (düğüm):** Hesaplama birimi.\n",
    "  * **Tensor:** Düğümler arasında akan çok boyutlu veri.\n",
    "  * **Edge (kenar):** Veri akışını tanımlar.\n",
    "  * **Operation:** Belirli bir hesaplama (ör. toplama, çarpma).\n",
    "\n",
    "### 3.4 Simple TensorFlow Example\n",
    "\n",
    "Basit toplama örneği (Theano’daki ile aynı mantık, farklı syntax):"
   ]
  },
  {
   "cell_type": "code",
   "execution_count": null,
   "id": "acf8baf4",
   "metadata": {},
   "outputs": [],
   "source": [
    "!pip install --user tensorflow"
   ]
  },
  {
   "cell_type": "code",
   "execution_count": null,
   "id": "8129e882",
   "metadata": {},
   "outputs": [],
   "source": [
    "import tensorflow as tf\n",
    "\n",
    "# sembolik değişkenler\n",
    "a = tf.placeholder(tf.float32)\n",
    "b = tf.placeholder(tf.float32)\n",
    "\n",
    "# sembolik ifade\n",
    "add = tf.add(a, b)\n",
    "\n",
    "# session aç ve hesapla\n",
    "sess = tf.Session()\n",
    "result = sess.run(add, feed_dict={a: 1.5, b: 2.5})\n",
    "print(result)  # çıktı: 4.0"
   ]
  },
  {
   "cell_type": "markdown",
   "id": "e6600188",
   "metadata": {},
   "source": [
    "### 3.5 More Deep Learning Models\n",
    "\n",
    "* TensorFlow kurulumu ile birlikte hazır modeller geliyor:\n",
    "\n",
    "  * word2vec (skip-gram)\n",
    "  * CIFAR-10 CNN\n",
    "  * MNIST CNN (LeNet-5 benzeri)\n",
    "  * Sequence-to-sequence (attention mekanizmalı)\n",
    "* Ayrıca **TensorFlow Playground** üzerinden tarayıcıda küçük ağlar denemek mümkün.\n",
    "\n",
    "### 3.6 Summary\n",
    "\n",
    "* TensorFlow da Theano gibi güçlü bir sayısal hesaplama kütüphanesi.\n",
    "* Model geliştirme doğrudan yapılabilir ama genelde Keras gibi wrapper ile kullanmak daha kolay.\n",
    "\n",
    "## 📌 Örnek 1 – TensorFlow ile Basit Çarpma"
   ]
  },
  {
   "cell_type": "code",
   "execution_count": null,
   "id": "462eeb79",
   "metadata": {},
   "outputs": [],
   "source": [
    "import tensorflow as tf\n",
    "\n",
    "# sembolik değişkenler\n",
    "x = tf.placeholder(tf.float32)\n",
    "y = tf.placeholder(tf.float32)\n",
    "\n",
    "# çarpma işlemi\n",
    "mul = tf.multiply(x, y)\n",
    "\n",
    "# session aç\n",
    "with tf.Session() as sess:\n",
    "    result = sess.run(mul, feed_dict={x: 3, y: 4})\n",
    "    print(result)  # çıktı: 12"
   ]
  },
  {
   "cell_type": "markdown",
   "id": "1ffe9d46",
   "metadata": {},
   "source": [
    "## 📌 Örnek 2 – TensorFlow ile Matris Çarpımı"
   ]
  },
  {
   "cell_type": "code",
   "execution_count": null,
   "id": "ce8d73ad",
   "metadata": {},
   "outputs": [],
   "source": [
    "import tensorflow as tf\n",
    "import numpy as np\n",
    "\n",
    "# sembolik matrisler\n",
    "A = tf.placeholder(tf.float32, shape=(2, 2))\n",
    "B = tf.placeholder(tf.float32, shape=(2, 2))\n",
    "\n",
    "# matris çarpımı\n",
    "C = tf.matmul(A, B)\n",
    "\n",
    "# session aç\n",
    "with tf.Session() as sess:\n",
    "    result = sess.run(C, feed_dict={\n",
    "        A: np.array([[1, 2], [3, 4]]),\n",
    "        B: np.array([[5, 6], [7, 8]])\n",
    "    })"
   ]
  }
 ],
 "metadata": {
  "kernelspec": {
   "display_name": "Python [conda env:base] *",
   "language": "python",
   "name": "conda-base-py"
  },
  "language_info": {
   "codemirror_mode": {
    "name": "ipython",
    "version": 3
   },
   "file_extension": ".py",
   "mimetype": "text/x-python",
   "name": "python",
   "nbconvert_exporter": "python",
   "pygments_lexer": "ipython3",
   "version": "3.13.5"
  }
 },
 "nbformat": 4,
 "nbformat_minor": 5
}
