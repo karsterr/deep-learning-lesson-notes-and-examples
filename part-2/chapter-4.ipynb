{
 "cells": [
  {
   "cell_type": "markdown",
   "id": "ea837756",
   "metadata": {},
   "source": [
    "## 📌 Chapter 4 – Introduction to Keras (Özet)\n",
    "\n",
    "### 4.1 What is Keras?\n",
    "\n",
    "* **Minimalist Python kütüphanesi** → Theano veya TensorFlow üzerine çalışır.\n",
    "* Amacı: Derin öğrenme modellerini **hızlı ve kolay geliştirmek**.\n",
    "* CPU ve GPU üzerinde sorunsuz çalışır.\n",
    "* François Chollet (Google mühendisi) tarafından geliştirildi.\n",
    "* 4 temel ilke:\n",
    "\n",
    "  * **Modularity (Modülerlik):** Modeller farklı bileşenlerin birleşiminden oluşur.\n",
    "  * **Minimalism (Minimalizm):** Gereksiz karmaşıklık yok, okunabilir API.\n",
    "  * **Extensibility (Genişletilebilirlik):** Yeni bileşenler kolayca eklenebilir.\n",
    "  * **Pythonic:** Her şey saf Python, özel dosya formatları yok.\n",
    "\n",
    "### 4.2 How to Install Keras\n",
    "\n",
    "* Önceden **Theano** veya **TensorFlow** kurulu olmalı.\n",
    "* Kurulum:"
   ]
  },
  {
   "cell_type": "code",
   "execution_count": 1,
   "id": "7dc5c00a",
   "metadata": {},
   "outputs": [
    {
     "name": "stdout",
     "output_type": "stream",
     "text": [
      "Requirement already satisfied: keras in c:\\users\\kara\\anaconda3\\lib\\site-packages (3.11.3)\n",
      "Requirement already satisfied: absl-py in c:\\users\\kara\\anaconda3\\lib\\site-packages (from keras) (2.3.1)\n",
      "Requirement already satisfied: numpy in c:\\users\\kara\\anaconda3\\lib\\site-packages (from keras) (2.1.3)\n",
      "Requirement already satisfied: rich in c:\\users\\kara\\anaconda3\\lib\\site-packages (from keras) (13.9.4)\n",
      "Requirement already satisfied: namex in c:\\users\\kara\\anaconda3\\lib\\site-packages (from keras) (0.1.0)\n",
      "Requirement already satisfied: h5py in c:\\users\\kara\\anaconda3\\lib\\site-packages (from keras) (3.12.1)\n",
      "Requirement already satisfied: optree in c:\\users\\kara\\anaconda3\\lib\\site-packages (from keras) (0.17.0)\n",
      "Requirement already satisfied: ml-dtypes in c:\\users\\kara\\anaconda3\\lib\\site-packages (from keras) (0.5.3)\n",
      "Requirement already satisfied: packaging in c:\\users\\kara\\anaconda3\\lib\\site-packages (from keras) (24.2)\n",
      "Requirement already satisfied: typing-extensions>=4.6.0 in c:\\users\\kara\\anaconda3\\lib\\site-packages (from optree->keras) (4.12.2)\n",
      "Requirement already satisfied: markdown-it-py>=2.2.0 in c:\\users\\kara\\anaconda3\\lib\\site-packages (from rich->keras) (2.2.0)\n",
      "Requirement already satisfied: pygments<3.0.0,>=2.13.0 in c:\\users\\kara\\anaconda3\\lib\\site-packages (from rich->keras) (2.19.1)\n",
      "Requirement already satisfied: mdurl~=0.1 in c:\\users\\kara\\anaconda3\\lib\\site-packages (from markdown-it-py>=2.2.0->rich->keras) (0.1.0)\n"
     ]
    }
   ],
   "source": [
    "!pip install keras"
   ]
  },
  {
   "cell_type": "markdown",
   "id": "600ff592",
   "metadata": {},
   "source": [
    "* Versiyon kontrolü:"
   ]
  },
  {
   "cell_type": "code",
   "execution_count": 2,
   "id": "22238541",
   "metadata": {},
   "outputs": [
    {
     "name": "stdout",
     "output_type": "stream",
     "text": [
      "3.11.3\n"
     ]
    }
   ],
   "source": [
    "import keras; print(keras.__version__)"
   ]
  },
  {
   "cell_type": "markdown",
   "id": "a71a9218",
   "metadata": {},
   "source": [
    "### 4.3 Theano and TensorFlow Backends for Keras\n",
    "\n",
    "* Keras, backend olarak **Theano** veya **TensorFlow** kullanabilir.\n",
    "* Backend değiştirmek için `~/.keras/keras.json` dosyasında ayar yapılır:"
   ]
  },
  {
   "cell_type": "markdown",
   "id": "4534651d",
   "metadata": {},
   "source": [
    "### 4.3 Theano and TensorFlow Backends for Keras\n",
    "\n",
    "* Keras, backend olarak **Theano** veya **TensorFlow** kullanabilir.\n",
    "* Backend değiştirmek için `~/.keras/keras.json` dosyasında ayar yapılır:\n",
    "\n",
    "  ```json\n",
    "  {\n",
    "    \"backend\": \"tensorflow\",\n",
    "    \"image_dim_ordering\": \"tf\",\n",
    "    \"epsilon\": 1e-07,\n",
    "    \"floatx\": \"float32\"\n",
    "  }\n",
    "  ```\n",
    "* Terminalden de geçici olarak backend değiştirilebilir:\n",
    "\n",
    "  ```bash\n",
    "  KERAS_BACKEND=theano python script.py\n",
    "  ```\n",
    "\n",
    "### 4.4 Build Deep Learning Models with Keras\n",
    "\n",
    "Keras’ta model geliştirme adımları:\n",
    "\n",
    "1. **Model tanımla:** `Sequential()` ile katmanlar eklenir.\n",
    "2. **Model derle:** Kayıp fonksiyonu (loss) ve optimizer seçilir.\n",
    "3. **Modeli eğit:** `fit()` fonksiyonu ile veri üzerinde eğitilir.\n",
    "4. **Tahmin yap:** `evaluate()` veya `predict()` fonksiyonları kullanılır.\n",
    "\n",
    "### 4.5 Summary\n",
    "\n",
    "* Keras, Theano ve TensorFlow’un karmaşıklığını gizleyen basit bir API sağlar.\n",
    "* Derin öğrenme model geliştirme süreci çok daha hızlı ve kolay hale gelir.\n",
    "\n",
    "---\n",
    "\n",
    "## 📌 Örnek 1 – Basit Sequential Model"
   ]
  },
  {
   "cell_type": "code",
   "execution_count": 3,
   "id": "9e5837e3",
   "metadata": {},
   "outputs": [
    {
     "name": "stderr",
     "output_type": "stream",
     "text": [
      "c:\\Users\\KARA\\anaconda3\\Lib\\site-packages\\keras\\src\\layers\\core\\dense.py:92: UserWarning: Do not pass an `input_shape`/`input_dim` argument to a layer. When using Sequential models, prefer using an `Input(shape)` object as the first layer in the model instead.\n",
      "  super().__init__(activity_regularizer=activity_regularizer, **kwargs)\n"
     ]
    },
    {
     "name": "stdout",
     "output_type": "stream",
     "text": [
      "\u001b[1m1/1\u001b[0m \u001b[32m━━━━━━━━━━━━━━━━━━━━\u001b[0m\u001b[37m\u001b[0m \u001b[1m0s\u001b[0m 33ms/step\n",
      "[[3.6650832]]\n"
     ]
    }
   ],
   "source": [
    "from keras.models import Sequential\n",
    "from keras.layers import Dense\n",
    "import numpy as np\n",
    "\n",
    "# sahte veri\n",
    "X = np.array([[0], [1], [2], [3]])\n",
    "y = np.array([[0], [1], [2], [3]])\n",
    "\n",
    "# model oluştur\n",
    "model = Sequential()\n",
    "model.add(Dense(1, input_dim=1))  # tek giriş, tek çıkış\n",
    "\n",
    "# derle\n",
    "model.compile(optimizer='sgd', loss='mse')\n",
    "\n",
    "# eğit\n",
    "model.fit(X, y, epochs=100, verbose=0)\n",
    "\n",
    "# tahmin yap\n",
    "print(model.predict(np.array([[4]])))  # ~4.0 beklenir"
   ]
  },
  {
   "cell_type": "markdown",
   "id": "7f90c022",
   "metadata": {},
   "source": [
    "## 📌 Örnek 2 – Çok Katmanlı Küçük Ağ"
   ]
  },
  {
   "cell_type": "code",
   "execution_count": 4,
   "id": "9dd36c81",
   "metadata": {},
   "outputs": [
    {
     "name": "stdout",
     "output_type": "stream",
     "text": [
      "Doğruluk: 0.75\n"
     ]
    }
   ],
   "source": [
    "from keras.models import Sequential\n",
    "from keras.layers import Dense\n",
    "import numpy as np\n",
    "\n",
    "# sahte veri: giriş -> çıkış\n",
    "X = np.array([[0,0],[0,1],[1,0],[1,1]])\n",
    "y = np.array([[0],[1],[1],[0]])  # XOR problemi\n",
    "\n",
    "# model oluştur\n",
    "model = Sequential()\n",
    "model.add(Dense(8, input_dim=2, activation='relu'))\n",
    "model.add(Dense(1, activation='sigmoid'))\n",
    "\n",
    "# derle\n",
    "model.compile(optimizer='adam', loss='binary_crossentropy', metrics=['accuracy'])\n",
    "\n",
    "# eğit\n",
    "model.fit(X, y, epochs=500, verbose=0)\n",
    "\n",
    "# değerlendirme\n",
    "loss, acc = model.evaluate(X, y, verbose=0)\n",
    "print(\"Doğruluk: %.2f\" % acc)"
   ]
  }
 ],
 "metadata": {
  "kernelspec": {
   "display_name": "base",
   "language": "python",
   "name": "python3"
  },
  "language_info": {
   "codemirror_mode": {
    "name": "ipython",
    "version": 3
   },
   "file_extension": ".py",
   "mimetype": "text/x-python",
   "name": "python",
   "nbconvert_exporter": "python",
   "pygments_lexer": "ipython3",
   "version": "3.13.5"
  }
 },
 "nbformat": 4,
 "nbformat_minor": 5
}
